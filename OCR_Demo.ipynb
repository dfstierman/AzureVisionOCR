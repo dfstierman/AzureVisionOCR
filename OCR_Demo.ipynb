{
 "cells": [
  {
   "cell_type": "markdown",
   "metadata": {},
   "source": [
    "If you need a Computer Vision API account, you can create one with this Azure CLI command:\n",
    "\n",
    "RES_REGION=westus2\n",
    "RES_GROUP=<resourcegroup-name>\n",
    "ACCT_NAME=<computervision-account-name>\n",
    "\n",
    "az cognitiveservices account create \\\n",
    "    --resource-group $RES_GROUP \\\n",
    "    --name $ACCT_NAME \\\n",
    "    --location $RES_REGION \\\n",
    "    --kind ComputerVision \\\n",
    "    --sku S1 \\\n",
    "    --yes"
   ]
  },
  {
   "cell_type": "markdown",
   "metadata": {},
   "source": [
    "Setup Environment\n",
    "\n",
    "prerequisites: \n",
    "pip install azure-cognitiveservices-vision-computervision"
   ]
  },
  {
   "cell_type": "code",
   "execution_count": 4,
   "metadata": {},
   "outputs": [],
   "source": [
    "import os\n",
    "import sys\n",
    "import requests\n",
    "from io import BytesIO"
   ]
  },
  {
   "cell_type": "markdown",
   "metadata": {},
   "source": [
    "setup 2 env variables:\n",
    "\n",
    "RES_GROUP=<resourcegroup-name>\n",
    "ACCT_NAME=<computervision-account-name>\n",
    "\n",
    "export ACCOUNT_REGION=$(az cognitiveservices account show \\\n",
    "    --resource-group $RES_GROUP \\\n",
    "    --name $ACCT_NAME \\\n",
    "    --query location \\\n",
    "    --output tsv)\n",
    "\n",
    "export ACCOUNT_KEY=$(az cognitiveservices account keys list \\\n",
    "    --resource-group $RES_GROUP \\\n",
    "    --name $ACCT_NAME \\\n",
    "    --query key1 \\\n",
    "    --output tsv)"
   ]
  },
  {
   "cell_type": "code",
   "execution_count": 5,
   "metadata": {},
   "outputs": [],
   "source": [
    "os.environ[\"ACCOUNT_REGION\"] = \"\"\n",
    "os.environ[\"ACCOUNT_KEY\"] = \"\""
   ]
  },
  {
   "cell_type": "code",
   "execution_count": 6,
   "metadata": {},
   "outputs": [],
   "source": [
    "from azure.cognitiveservices.vision.computervision import ComputerVisionClient\n",
    "from azure.cognitiveservices.vision.computervision.models import VisualFeatureTypes\n",
    "from msrest.authentication import CognitiveServicesCredentials\n",
    "\n",
    "import os\n",
    "region = os.environ['ACCOUNT_REGION']\n",
    "key = os.environ['ACCOUNT_KEY']\n",
    "\n",
    "credentials = CognitiveServicesCredentials(key)\n",
    "client = ComputerVisionClient(\n",
    "    endpoint=\"https://domain-computer-vision-dfs.cognitiveservices.azure.com/\",\n",
    "    credentials=credentials\n",
    ")"
   ]
  },
  {
   "cell_type": "code",
   "execution_count": 7,
   "metadata": {},
   "outputs": [],
   "source": [
    "# import models\n",
    "from azure.cognitiveservices.vision.computervision.models import OperationStatusCodes\n",
    "import time\n",
    "\n",
    "url = \"https://github.com/Azure-Samples/cognitive-services-python-sdk-samples/raw/master/samples/vision/images/make_things_happen.jpg\"\n",
    "raw = True\n",
    "numberOfCharsInOperationId = 36\n",
    "\n",
    "# SDK call\n",
    "rawHttpResponse = client.read(url, language=\"en\", raw=True)\n",
    "\n",
    "# Get ID from returned headers\n",
    "operationLocation = rawHttpResponse.headers[\"Operation-Location\"]\n",
    "idLocation = len(operationLocation) - numberOfCharsInOperationId\n",
    "operationId = operationLocation[idLocation:]\n",
    "\n",
    "# SDK call\n",
    "while True:\n",
    "    result = client.get_read_result(operationId)\n",
    "    if result.status not in ['notStarted', 'running']:\n",
    "        break\n",
    "    time.sleep(1)\n"
   ]
  },
  {
   "cell_type": "code",
   "execution_count": 8,
   "metadata": {},
   "outputs": [
    {
     "data": {
      "text/plain": [
       "<OperationStatusCodes.succeeded: 'succeeded'>"
      ]
     },
     "execution_count": 8,
     "metadata": {},
     "output_type": "execute_result"
    }
   ],
   "source": [
    "result.status"
   ]
  },
  {
   "cell_type": "code",
   "execution_count": 9,
   "metadata": {},
   "outputs": [
    {
     "name": "stdout",
     "output_type": "stream",
     "text": [
      "make\n",
      "things\n",
      "happen\n"
     ]
    }
   ],
   "source": [
    "# Get data\n",
    "if result.status == OperationStatusCodes.succeeded:\n",
    "\n",
    "    for line in result.analyze_result.read_results[0].lines:\n",
    "        print(line.text)\n",
    "        # print(line.bounding_box)"
   ]
  }
 ],
 "metadata": {
  "kernelspec": {
   "display_name": "Python 3",
   "language": "python",
   "name": "python3"
  },
  "language_info": {
   "codemirror_mode": {
    "name": "ipython",
    "version": 3
   },
   "file_extension": ".py",
   "mimetype": "text/x-python",
   "name": "python",
   "nbconvert_exporter": "python",
   "pygments_lexer": "ipython3",
   "version": "3.9.0"
  }
 },
 "nbformat": 4,
 "nbformat_minor": 2
}
